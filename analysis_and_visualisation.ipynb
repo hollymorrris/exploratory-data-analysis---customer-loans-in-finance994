{
 "cells": [
  {
   "cell_type": "markdown",
   "metadata": {},
   "source": [
    "# Milestone 4: Analysis and Visualisation"
   ]
  },
  {
   "cell_type": "code",
   "execution_count": 1,
   "metadata": {},
   "outputs": [],
   "source": [
    "import pandas as pd\n",
    "import matplotlib.pyplot as plt "
   ]
  },
  {
   "cell_type": "markdown",
   "metadata": {},
   "source": [
    "### Import transformed loans paymentment data that's been cleaned in the previous milestone:"
   ]
  },
  {
   "cell_type": "code",
   "execution_count": 2,
   "metadata": {},
   "outputs": [
    {
     "name": "stdout",
     "output_type": "stream",
     "text": [
      "<class 'pandas.core.frame.DataFrame'>\n",
      "RangeIndex: 51986 entries, 0 to 51985\n",
      "Data columns (total 39 columns):\n",
      " #   Column                      Non-Null Count  Dtype  \n",
      "---  ------                      --------------  -----  \n",
      " 0   id                          51986 non-null  int64  \n",
      " 1   member_id                   51986 non-null  int64  \n",
      " 2   loan_amount                 51986 non-null  int64  \n",
      " 3   funded_amount               51986 non-null  float64\n",
      " 4   funded_amount_inv           51986 non-null  float64\n",
      " 5   term                        51986 non-null  object \n",
      " 6   int_rate                    51986 non-null  float64\n",
      " 7   instalment                  51986 non-null  float64\n",
      " 8   grade                       51986 non-null  object \n",
      " 9   sub_grade                   51986 non-null  object \n",
      " 10  employment_length           51986 non-null  object \n",
      " 11  home_ownership              51986 non-null  object \n",
      " 12  annual_inc                  51986 non-null  float64\n",
      " 13  verification_status         51986 non-null  object \n",
      " 14  issue_date                  51986 non-null  object \n",
      " 15  loan_status                 51986 non-null  object \n",
      " 16  payment_plan                51986 non-null  object \n",
      " 17  purpose                     51986 non-null  object \n",
      " 18  dti                         51986 non-null  float64\n",
      " 19  delinq_2yrs                 51986 non-null  int64  \n",
      " 20  earliest_credit_line        51986 non-null  object \n",
      " 21  inq_last_6mths              51986 non-null  int64  \n",
      " 22  open_accounts               51986 non-null  int64  \n",
      " 23  total_accounts              51986 non-null  int64  \n",
      " 24  out_prncp                   51986 non-null  float64\n",
      " 25  out_prncp_inv               51986 non-null  float64\n",
      " 26  total_payment               51986 non-null  float64\n",
      " 27  total_payment_inv           51986 non-null  float64\n",
      " 28  total_rec_prncp             51986 non-null  float64\n",
      " 29  total_rec_int               51986 non-null  float64\n",
      " 30  total_rec_late_fee          51986 non-null  float64\n",
      " 31  recoveries                  51986 non-null  float64\n",
      " 32  collection_recovery_fee     51986 non-null  float64\n",
      " 33  last_payment_date           51986 non-null  object \n",
      " 34  last_payment_amount         51986 non-null  float64\n",
      " 35  last_credit_pull_date       51986 non-null  object \n",
      " 36  collections_12_mths_ex_med  51986 non-null  float64\n",
      " 37  policy_code                 51986 non-null  int64  \n",
      " 38  application_type            51986 non-null  object \n",
      "dtypes: float64(17), int64(8), object(14)\n",
      "memory usage: 15.5+ MB\n"
     ]
    }
   ],
   "source": [
    "df = pd.read_csv('/Users/hollymorris/Python/exploratory-data-analysis---customer-loans-in-finance994/transformed_loans_data.csv')\n",
    "\n",
    "df.info()"
   ]
  },
  {
   "cell_type": "markdown",
   "metadata": {},
   "source": [
    "## Current state of the loans:"
   ]
  },
  {
   "cell_type": "markdown",
   "metadata": {},
   "source": [
    "While performing the analysis in this milestone it can be helpful to have the data dictionary on hand to get an overview of what each column represents: data_dictionary.md\n",
    "\n",
    "We will query the data to check the current state of the payments:\n",
    "\n",
    "Summarise what percentage of the loans have been currently recovered compared to the total amount to be paid over the loans term including interest.\n",
    "\n",
    "Additionally calculate how much will be paid back in 6 months time with interest. Visualise your results on an appropriate graph."
   ]
  },
  {
   "cell_type": "code",
   "execution_count": 3,
   "metadata": {},
   "outputs": [
    {
     "name": "stdout",
     "output_type": "stream",
     "text": [
      "Percentage of loans that have currently been recovered 79.68%\n",
      "Total amount to be paid over loans term £796587684.03\n",
      "Total amount of loans recovered to date £634744506.97\n"
     ]
    }
   ],
   "source": [
    "# Convert interest rate to decimal form\n",
    "df['decimal_int_rate'] = df['int_rate'] / 100\n",
    "\n",
    "# Sum of recovered payments across all loans\n",
    "amount_recovered = df['total_payment'].sum()\n",
    "\n",
    "# Apply interest rate per loan and add to loan amount for total to be paid per loan\n",
    "df['interest_to_be_paid'] = df['loan_amount'] * df['decimal_int_rate']\n",
    "df['total_to_be_paid'] = df['interest_to_be_paid'] + df['loan_amount']\n",
    "\n",
    "# Sum total to be paid of all loans \n",
    "total_to_be_paid = df['total_to_be_paid'].sum()\n",
    "\n",
    "# Calculate percentage of loans currently recovered\n",
    "percentage_recovered = (amount_recovered / total_to_be_paid) * 100\n",
    "\n",
    "print(f'Percentage of loans that have currently been recovered {percentage_recovered:.2f}%')\n",
    "print(f'Total amount to be paid over loans term £{total_to_be_paid:.2f}')\n",
    "print(f'Total amount of loans recovered to date £{amount_recovered:.2f}')"
   ]
  },
  {
   "cell_type": "code",
   "execution_count": 4,
   "metadata": {},
   "outputs": [
    {
     "name": "stdout",
     "output_type": "stream",
     "text": [
      "Total amount that will be paid back in 6 months time £125642277.54\n"
     ]
    }
   ],
   "source": [
    "# Calculate loans to be paid back in 6 months' time \n",
    "payments_over_next_6_mths = df['instalment'] * 6\n",
    "total_over_next_6_mths = payments_over_next_6_mths.sum()\n",
    "\n",
    "print(f'Total amount that will be paid back in 6 months time £{total_over_next_6_mths:.2f}')"
   ]
  },
  {
   "cell_type": "code",
   "execution_count": 5,
   "metadata": {},
   "outputs": [
    {
     "data": {
      "image/png": "[encoded data removed]",
      "text/plain": [
       "<Figure size 640x480 with 1 Axes>"
      ]
     },
     "metadata": {},
     "output_type": "display_data"
    }
   ],
   "source": [
    "# Calculate percentages for pie chart \n",
    "percentage_paid_6_mths = (total_over_next_6_mths/total_to_be_paid) * 100\n",
    "percentage_left_to_be_paid = 100 - (percentage_recovered + percentage_paid_6_mths)\n",
    "\n",
    "# Data for pie chart \n",
    "labels = ['Recovered', 'Left to be paid', 'Paid over next 6 months']\n",
    "percentages = [percentage_recovered, percentage_left_to_be_paid, percentage_paid_6_mths]\n",
    "colors = ['green', 'purple', 'blue']\n",
    "\n",
    "# Plot pie chart\n",
    "plt.figure\n",
    "plt.pie(percentages, labels=labels, colors=colors)\n",
    "plt.title('Current State of the Loans')\n",
    "plt.show()"
   ]
  },
  {
   "cell_type": "markdown",
   "metadata": {},
   "source": [
    "## Calculating loss:"
   ]
  },
  {
   "cell_type": "markdown",
   "metadata": {},
   "source": [
    "The company wants to check what percentage of loans have been a loss to the company:\n",
    "\n",
    "Loans marked as Charged Off in the loan_status column represent a loss to the company.\n",
    "\n",
    "Calculate the percentage of charged off loans and the total amount that was paid towards these loans before being charged off."
   ]
  },
  {
   "cell_type": "code",
   "execution_count": 6,
   "metadata": {},
   "outputs": [
    {
     "name": "stdout",
     "output_type": "stream",
     "text": [
      "Percentage of charged off loans: 10.06%\n"
     ]
    }
   ],
   "source": [
    "# Filter loans with status 'Charged Off'\n",
    "charged_off_loans = df[df['loan_status'] == 'Charged Off'] \n",
    "\n",
    "# Count number of Charged Off loans in DataFrame\n",
    "number_charged_off_loans = len(charged_off_loans)\n",
    "\n",
    "# Count total number of rows(loans) in DataFrame\n",
    "number_all_loans = len(df)\n",
    "\n",
    "# Calculate percentage of Charged Off loans \n",
    "percentage_charged_off_loans = (number_charged_off_loans/number_all_loans) * 100\n",
    "\n",
    "print(f'Percentage of charged off loans: {percentage_charged_off_loans:.2f}%')"
   ]
  },
  {
   "cell_type": "code",
   "execution_count": 7,
   "metadata": {},
   "outputs": [
    {
     "name": "stdout",
     "output_type": "stream",
     "text": [
      "Total amount that was paid towards Charged Off loans before being charged off: £35893274.67\n"
     ]
    }
   ],
   "source": [
    "# Calculate the total amount paid towards these loans\n",
    "total_paid_towards_charged_off_loans = charged_off_loans['total_payment'].sum()\n",
    "\n",
    "print(f'Total amount that was paid towards Charged Off loans before being charged off: £{total_paid_towards_charged_off_loans:.2f}')"
   ]
  },
  {
   "cell_type": "markdown",
   "metadata": {},
   "source": [
    "## Calculating projected loss:\n"
   ]
  },
  {
   "cell_type": "markdown",
   "metadata": {},
   "source": [
    "Calculate the expected loss of the loans marked as Charged Off.\n",
    "\n",
    "Calculate the loss in revenue these loans would have generated for the company if they had finished their term. Visualise the loss projected over the remaining term of these loans."
   ]
  },
  {
   "cell_type": "code",
   "execution_count": 8,
   "metadata": {},
   "outputs": [
    {
     "name": "stdout",
     "output_type": "stream",
     "text": [
      "Expected loss of loans marked as Charged Off: £36982725.33\n"
     ]
    }
   ],
   "source": [
    "# Calulate how much of Charged Off loans not paid back \n",
    "df['loan_left_unpaid'] = df['loan_amount']  - df['total_payment']\n",
    "loss_of_loans = df.loc[df['loan_status'] == 'Charged Off', 'loan_left_unpaid'].sum()\n",
    "\n",
    "print(f'Expected loss of loans marked as Charged Off: £{loss_of_loans:.2f}')"
   ]
  },
  {
   "cell_type": "code",
   "execution_count": 12,
   "metadata": {},
   "outputs": [
    {
     "name": "stdout",
     "output_type": "stream",
     "text": [
      "Loss in revenue these loans would have generated if terms finished: £48573186.75\n"
     ]
    }
   ],
   "source": [
    "# Calculate revenue for Charged Off loans\n",
    "df['loan_revenue'] = df['total_to_be_paid'] - df['total_payment']\n",
    "charged_off_revenue_loss = df.loc[df['loan_status'] == 'Charged Off', 'loan_revenue'].sum()\n",
    "\n",
    "print(f'Loss in revenue these loans would have generated if terms had finished: £{charged_off_revenue_loss:.2f}')"
   ]
  },
  {
   "cell_type": "code",
   "execution_count": null,
   "metadata": {},
   "outputs": [],
   "source": [
    "# Convert issue_date and last_payment_date to datetime\n",
    "def transform_dates(df):\n",
    "    date_columns = [\n",
    "        'issue_date',\n",
    "        'last_payment_date'\n",
    "        ]\n",
    "    for col in date_columns:\n",
    "        if col in df.columns:\n",
    "            df[col] = pd.to_datetime(df[col], format='%Y-%m-%d', errors='coerce')\n",
    "    return df\n",
    "\n",
    "transform_dates(df)\n",
    "\n",
    "# Convert term to int\n",
    "df['term'] = df['term'].str.extract(r'(\\d+)').astype(int)"
   ]
  },
  {
   "cell_type": "code",
   "execution_count": null,
   "metadata": {},
   "outputs": [],
   "source": [
    "# Filter loans for Charged Off from transformed dataframe \n",
    "charged_off_loans = df[df['loan_status'] == 'Charged Off'] "
   ]
  },
  {
   "cell_type": "code",
   "execution_count": null,
   "metadata": {},
   "outputs": [],
   "source": [
    "# Calculate loan's term paid to date\n",
    "df['months_paid_to_date'] = (df['last_payment_date'] - df['issue_date']).dt.days // 30\n",
    "charged_off_months_paid = df.loc[df['loan_status'] == 'Charged Off', 'months_paid_to_date']\n",
    "\n",
    "# Calculate remaining term of loan\n",
    "df['months_left'] = df['term'] - df['months_paid_to_date']\n",
    "charged_off_months_left = df.loc[df['loan_status'] == 'Charged Off', 'months_left']\n",
    "\n",
    "monthly_loss = charged_off_revenue_loss / charged_off_months_left\n",
    "\n",
    "# Plot loss projected over remaining terms of loans "
   ]
  },
  {
   "cell_type": "markdown",
   "metadata": {},
   "source": [
    "## Possible loss:"
   ]
  },
  {
   "cell_type": "markdown",
   "metadata": {},
   "source": [
    "There are customers who are currently behind with their loan payments. This subset of customers represent a risk to company revenue.\n",
    "\n",
    "What percentage do users in this bracket currently represent?\n",
    "\n",
    "Calculate the total amount of customers in this bracket and how much loss the company would incur if their status was changed to Charged Off.\n",
    "\n",
    "What is the projected loss of these loans if the customer were to finish the full loan term?\n",
    "\n",
    "If customers that are late on payments converted to Charged Off, what percentage of total expected revenue do these customers and the customers who have already defaulted on their loan represent?"
   ]
  },
  {
   "cell_type": "code",
   "execution_count": 13,
   "metadata": {},
   "outputs": [
    {
     "name": "stdout",
     "output_type": "stream",
     "text": [
      "51986\n",
      "51986\n",
      "Percentage of members behind with their loan payments: 1.24%\n",
      "Total amount of customers currently behind on their loan payments: 647\n"
     ]
    }
   ],
   "source": [
    "# Check all loans have unique customer \n",
    "total_loans = len(df)\n",
    "total_customers = len(df['member_id'].unique())\n",
    "print(total_loans)\n",
    "print(total_customers)\n",
    "\n",
    "# Filter loans where loan_status contains string 'Late'\n",
    "late_loans = df[df['loan_status'].str.contains(\"Late\")]\n",
    "\n",
    "# Count of how many loans are late\n",
    "total_customers_late = len(late_loans)\n",
    "\n",
    "# Calculate percentage of late loans compared to all loans\n",
    "percentage_late_loans = (total_customers_late / len(df)) * 100\n",
    "\n",
    "print(f'Percentage of members behind with their loan payments: {percentage_late_loans:.2f}%')\n",
    "print(f'Total amount of customers currently behind on their loan payments: {total_customers_late}')"
   ]
  },
  {
   "cell_type": "code",
   "execution_count": 27,
   "metadata": {},
   "outputs": [
    {
     "name": "stdout",
     "output_type": "stream",
     "text": [
      "Expected loss of loans if customers behind on payments were switched to Charged Off: £3246977.74\n"
     ]
    }
   ],
   "source": [
    "# Calulate loss if Late loans not paid back \n",
    "df['loan_left_unpaid'] = df['loan_amount']  - df['total_payment']\n",
    "loss_of_late_loans = df.loc[df['loan_status'].str.contains(\"Late\"), 'loan_left_unpaid'].sum()\n",
    "\n",
    "print(f'Expected loss of loans if customers behind on payments were switched to Charged Off: £{loss_of_late_loans:.2f}')"
   ]
  },
  {
   "cell_type": "code",
   "execution_count": 25,
   "metadata": {},
   "outputs": [
    {
     "name": "stdout",
     "output_type": "stream",
     "text": [
      "Loss in revenue these loans would have generated if terms had finished: £4872098.03\n"
     ]
    }
   ],
   "source": [
    "# Calculate projected loss for Late loans\n",
    "df['loan_revenue'] = df['total_to_be_paid'] - df['total_payment']\n",
    "late_revenue_loss = df.loc[df['loan_status'].str.contains(\"Late\"), 'loan_revenue'].sum()\n",
    "\n",
    "print(f'Loss in revenue these loans would have generated if terms had finished: £{late_revenue_loss:.2f}')"
   ]
  },
  {
   "cell_type": "code",
   "execution_count": 28,
   "metadata": {},
   "outputs": [
    {
     "name": "stdout",
     "output_type": "stream",
     "text": [
      "Percentage: 33.02%\n"
     ]
    }
   ],
   "source": [
    "total_expected_revenue = total_to_be_paid - amount_recovered\n",
    "\n",
    "total_expected_revenue_loss = charged_off_revenue_loss + late_revenue_loss\n",
    "\n",
    "percentage_expected_revenue_loss = (total_expected_revenue_loss/total_expected_revenue) * 100\n",
    "\n",
    "print(f'Percentage: {percentage_expected_revenue_loss:.2f}%')\n"
   ]
  },
  {
   "cell_type": "markdown",
   "metadata": {},
   "source": [
    "## Indicators of loss:"
   ]
  },
  {
   "cell_type": "markdown",
   "metadata": {},
   "source": [
    "In this task, you will be analysing the data to visualise the possible indicators that a customer will not be able to pay the loan.\n",
    "\n",
    "You will want to compare columns which might be indicators against customers who have already stopped paying and customers who are currently behind on payments.\n",
    "\n",
    "Here are some example columns that might indicate that a user might not pay the loan:\n",
    "Does the grade of the loan have an effect on customers not paying?\n",
    "Is the purpose for the loan likely to have an effect?\n",
    "Does the home_ownership value contribute to the likelihood a customer won't pay?\n",
    "To help identify which columns will be of interest, first create a subset of these users.\n",
    "\n",
    "Make the analysis and determine the columns are contributing to loans not being paid off and visualise any interesting indicators.\n",
    "Compare these indicators between loans already charged off and loans that could change to charged off to check if these same factors apply to loans that have the potential to change to \"Charged Off\"."
   ]
  },
  {
   "cell_type": "code",
   "execution_count": 31,
   "metadata": {},
   "outputs": [
    {
     "name": "stdout",
     "output_type": "stream",
     "text": [
      "0.11306890316623706\n"
     ]
    }
   ],
   "source": [
    "# Create subset of customers with Charged Off and Late \n",
    "charged_off_and_late_df = pd.concat([\n",
    "    df[df['loan_status'] == 'Charged Off'],\n",
    "    df[df['loan_status'].str.contains(\"Late\")]\n",
    "    ])"
   ]
  },
  {
   "cell_type": "code",
   "execution_count": null,
   "metadata": {},
   "outputs": [],
   "source": [
    "calculate percentage of each category instead of count "
   ]
  },
  {
   "cell_type": "code",
   "execution_count": 18,
   "metadata": {},
   "outputs": [
    {
     "data": {
      "text/plain": [
       "grade\n",
       "B    15669\n",
       "C    13042\n",
       "A     9380\n",
       "D     7815\n",
       "E     3928\n",
       "F     1647\n",
       "G      505\n",
       "Name: count, dtype: int64"
      ]
     },
     "execution_count": 18,
     "metadata": {},
     "output_type": "execute_result"
    }
   ],
   "source": [
    "df['grade'].value_counts()"
   ]
  },
  {
   "cell_type": "code",
   "execution_count": 32,
   "metadata": {},
   "outputs": [
    {
     "data": {
      "text/plain": [
       "grade\n",
       "C    1566\n",
       "B    1367\n",
       "D    1270\n",
       "E     764\n",
       "A     413\n",
       "F     382\n",
       "G     116\n",
       "Name: count, dtype: int64"
      ]
     },
     "execution_count": 32,
     "metadata": {},
     "output_type": "execute_result"
    }
   ],
   "source": [
    "charged_off_and_late_df['grade'].value_counts()"
   ]
  },
  {
   "cell_type": "code",
   "execution_count": 19,
   "metadata": {},
   "outputs": [
    {
     "data": {
      "text/plain": [
       "purpose\n",
       "debt_consolidation    28479\n",
       "credit_card           10619\n",
       "other                  3504\n",
       "home_improvement       3045\n",
       "major_purchase         1610\n",
       "small_business         1279\n",
       "car                     991\n",
       "medical                 602\n",
       "wedding                 525\n",
       "moving                  433\n",
       "house                   337\n",
       "vacation                298\n",
       "educational             191\n",
       "renewable_energy         73\n",
       "Name: count, dtype: int64"
      ]
     },
     "execution_count": 19,
     "metadata": {},
     "output_type": "execute_result"
    }
   ],
   "source": [
    "df['purpose'].value_counts()"
   ]
  },
  {
   "cell_type": "code",
   "execution_count": 33,
   "metadata": {},
   "outputs": [
    {
     "data": {
      "text/plain": [
       "purpose\n",
       "debt_consolidation    3323\n",
       "credit_card            942\n",
       "other                  481\n",
       "small_business         296\n",
       "home_improvement       288\n",
       "major_purchase         167\n",
       "car                     92\n",
       "medical                 79\n",
       "moving                  62\n",
       "house                   40\n",
       "vacation                37\n",
       "wedding                 36\n",
       "educational             24\n",
       "renewable_energy        11\n",
       "Name: count, dtype: int64"
      ]
     },
     "execution_count": 33,
     "metadata": {},
     "output_type": "execute_result"
    }
   ],
   "source": [
    "charged_off_and_late_df['purpose'].value_counts()"
   ]
  },
  {
   "cell_type": "code",
   "execution_count": 20,
   "metadata": {},
   "outputs": [
    {
     "data": {
      "text/plain": [
       "home_ownership\n",
       "MORTGAGE    25872\n",
       "RENT        21674\n",
       "OWN          4376\n",
       "OTHER          63\n",
       "NONE            1\n",
       "Name: count, dtype: int64"
      ]
     },
     "execution_count": 20,
     "metadata": {},
     "output_type": "execute_result"
    }
   ],
   "source": [
    "df['home_ownership'].value_counts()\n"
   ]
  },
  {
   "cell_type": "code",
   "execution_count": 34,
   "metadata": {},
   "outputs": [
    {
     "data": {
      "text/plain": [
       "home_ownership\n",
       "RENT        2735\n",
       "MORTGAGE    2608\n",
       "OWN          526\n",
       "OTHER          9\n",
       "Name: count, dtype: int64"
      ]
     },
     "execution_count": 34,
     "metadata": {},
     "output_type": "execute_result"
    }
   ],
   "source": [
    "charged_off_and_late_df['home_ownership'].value_counts()"
   ]
  },
  {
   "cell_type": "code",
   "execution_count": null,
   "metadata": {},
   "outputs": [],
   "source": [
    "barchart (x axis = categories for indicator columns)\n",
    "legend(customers charged off, late customers and other customers)"
   ]
  },
  {
   "cell_type": "markdown",
   "metadata": {},
   "source": [
    " def visualise_nulls_removal(self, df, transformed_df):\n",
    "        null_percentage_before = df.isna().mean() * 100\n",
    "        null_percentage_after = transformed_df.isna().mean() * 100\n",
    "\n",
    "        null_comparison = pd.DataFrame({\n",
    "            'Before Transformation': null_percentage_before,\n",
    "            'After Transformation': null_percentage_after\n",
    "        }).fillna(0)\n",
    "        fig, axes = plt.subplots(1,2, figsize=(20, 3))\n",
    "\n",
    "        sns.barplot(null_percentage_before, ax=axes[0])\n",
    "        axes[0].set_ylabel('Percentage')\n",
    "        axes[0].set_xlabel('Columns')\n",
    "\n",
    "        null_comparison.plot(kind='bar')\n",
    "        fig.suptitle('Percentage of Null Values Before and After Transformation')\n",
    "        plt.show()"
   ]
  }
 ],
 "metadata": {
  "kernelspec": {
   "display_name": ".venv",
   "language": "python",
   "name": "python3"
  },
  "language_info": {
   "codemirror_mode": {
    "name": "ipython",
    "version": 3
   },
   "file_extension": ".py",
   "mimetype": "text/x-python",
   "name": "python",
   "nbconvert_exporter": "python",
   "pygments_lexer": "ipython3",
   "version": "3.13.0"
  }
 },
 "nbformat": 4,
 "nbformat_minor": 2
}
